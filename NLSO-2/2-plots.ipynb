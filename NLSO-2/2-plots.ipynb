{
 "cells": [
  {
   "cell_type": "code",
   "execution_count": null,
   "metadata": {},
   "outputs": [],
   "source": [
    "using CSV, DataFrames\n",
    "using CairoMakie\n",
    "using GLMakie\n",
    "using GeometryBasics\n",
    "using DataStructures\n",
    "using ProgressMeter\n",
    "\n",
    "# Reading the text file assuming it's space-delimited\n",
    "df = CSV.read(\"dataSiO2-1.dat\", DataFrame; delim=' ', ignorerepeated=true,header=false)\n",
    "\n",
    "# Display the first few rows\n",
    "first(df, 5)\n",
    "\n",
    "\n",
    "GLMakie.activate!()\n",
    "aspect=(1, 1, 1)\n",
    "perspectiveness=0.5\n",
    "# the figure\n",
    "fig = Figure(; size=(600, 600))\n",
    "ax2 = Axis3(fig[1, 1]; aspect, perspectiveness)\n",
    "meshscatter!(ax2, x, y, z; markersize=type/2, color=type)\n",
    "\n",
    "fig\n",
    "\n",
    "\n"
   ]
  },
  {
   "cell_type": "code",
   "execution_count": null,
   "metadata": {},
   "outputs": [],
   "source": [
    "rc = 2.5\n",
    "# Define a function to compute and store points within a cutoff distance\n",
    "function find_nearby_points(x, y, z, n, rc)\n",
    "    # Initialize a dictionary to store i as key and corresponding j's as values\n",
    "    A = Dict{Int, Vector{Int}}()\n",
    "    # Loop over all points\n",
    "    @showprogress for i = 1:n-1\n",
    "        # Initialize an empty array to collect all j's for this i\n",
    "        js = []\n",
    "        for j = i+1:n\n",
    "            # Calculate the distance between points (i, j)\n",
    "            d = √((x[i]-x[j])^2 + (y[i]-y[j])^2 + (z[i]-z[j])^2)\n",
    "            if d < rc\n",
    "                # Add j to the list of neighbors for this i\n",
    "                push!(js, j)\n",
    "            end\n",
    "        end\n",
    "        # Save the results in the dictionary if any j's were found\n",
    "        if !isempty(js)\n",
    "            A[i] = js\n",
    "        end\n",
    "    end\n",
    "    sorted_A = SortedDict(A)\n",
    "    return A\n",
    "end\n",
    "A = find_nearby_points(x, y, z, n, rc);"
   ]
  },
  {
   "cell_type": "code",
   "execution_count": null,
   "metadata": {},
   "outputs": [],
   "source": [
    "\n",
    "\n",
    "GLMakie.activate!()\n",
    "aspect=:data\n",
    "perspectiveness=0.5\n",
    "# the figure\n",
    "fig = Figure(; size=(600, 600))\n",
    "ax1 = Axis3(fig[1, 1]; aspect, perspectiveness)\n",
    "meshscatter!(ax1, x, y, z; markersize=type/2, color=type)\n",
    "\n",
    "\n",
    "@showprogress for i = 1:n\n",
    "    if haskey(A, i)\n",
    "        point31 = Point(x[i], y[i], z[i])\n",
    "        for j in A[i]\n",
    "            point32 = Point(x[j], y[j], z[j])\n",
    "            cyl1 = GeometryBasics.Cylinder(point31, (point31+point32)/2, 0.1)\n",
    "            cyl2 = GeometryBasics.Cylinder((point31+point32)/2, point32, 0.1)\n",
    "            mesh!(ax1, cyl1, color =:blue)\n",
    "            mesh!(ax1, cyl2, color =:red)\n",
    "        end\n",
    "    end\n",
    "end\n",
    "\n",
    "fig"
   ]
  }
 ],
 "metadata": {
  "kernelspec": {
   "display_name": "Julia 1.11.0",
   "language": "julia",
   "name": "julia-1.11"
  },
  "language_info": {
   "file_extension": ".jl",
   "mimetype": "application/julia",
   "name": "julia",
   "version": "1.11.0"
  }
 },
 "nbformat": 4,
 "nbformat_minor": 2
}
